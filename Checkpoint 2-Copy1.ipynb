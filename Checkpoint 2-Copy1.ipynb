{
 "cells": [
  {
   "cell_type": "code",
   "execution_count": null,
   "id": "b43686ca",
   "metadata": {},
   "outputs": [
    {
     "name": "stdout",
     "output_type": "stream",
     "text": [
      "enter your guess:  30\n",
      "random_number= 2\n",
      "guessed_number= 30\n",
      "your guess is too low . Guess again\n",
      "enter your guess:  60\n",
      "random_number= 99\n",
      "guessed_number= 60\n",
      "your guess is too high . Guess again\n",
      "enter your guess:  50\n",
      "random_number= 49\n",
      "guessed_number= 50\n",
      "your guess is too high . Guess again\n",
      "enter your guess:  49\n",
      "random_number= 72\n",
      "guessed_number= 49\n",
      "your guess is too low . Guess again\n"
     ]
    }
   ],
   "source": [
    "import random as r\n",
    "y=r.randint(0,100)\n",
    "x=int(input(\"enter your guess:  \"))\n",
    "while x!=y:\n",
    "    if x>=50 and x!=y:\n",
    "        print(\"random_number=\", y)\n",
    "        print(\"guessed_number=\", x)\n",
    "        print(\"your guess is too high . Guess again\")\n",
    "        y=r.randint(0,100)\n",
    "        x=int(input(\"enter your guess:  \"))\n",
    "    elif x<50 and x!=y:\n",
    "        print(\"random_number=\", y)\n",
    "        print(\"guessed_number=\", x)\n",
    "        print(\"your guess is too low . Guess again\")\n",
    "        y=r.randint(0,100)\n",
    "        x=int(input(\"enter your guess:  \"))\n",
    "if x==y:\n",
    "    print(\"random_number=\", y)\n",
    "    print(\"guessed_number=\", x)\n",
    "    print(\"congratulation! you guessed the number correctly!\")\n",
    "        \n",
    "    \n",
    "\n",
    "    \n",
    "\n",
    "    \n",
    "    \n",
    "        \n",
    "    \n",
    "\n",
    "    \n",
    "\n",
    "    \n",
    "\n",
    "\n",
    "        \n",
    "    \n",
    "    \n",
    "\n",
    "    \n",
    "        \n",
    "    \n",
    "    \n",
    "\n",
    "\n",
    "\n",
    "      \n",
    "    \n",
    "    \n"
   ]
  },
  {
   "cell_type": "code",
   "execution_count": null,
   "id": "67fa5c8e",
   "metadata": {},
   "outputs": [],
   "source": []
  },
  {
   "cell_type": "code",
   "execution_count": null,
   "id": "61288dcd",
   "metadata": {},
   "outputs": [],
   "source": []
  }
 ],
 "metadata": {
  "kernelspec": {
   "display_name": "Python 3 (ipykernel)",
   "language": "python",
   "name": "python3"
  },
  "language_info": {
   "codemirror_mode": {
    "name": "ipython",
    "version": 3
   },
   "file_extension": ".py",
   "mimetype": "text/x-python",
   "name": "python",
   "nbconvert_exporter": "python",
   "pygments_lexer": "ipython3",
   "version": "3.10.9"
  }
 },
 "nbformat": 4,
 "nbformat_minor": 5
}
