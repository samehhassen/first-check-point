{
 "cells": [
  {
   "cell_type": "code",
   "execution_count": 9,
   "id": "7d79c085",
   "metadata": {},
   "outputs": [
    {
     "name": "stdout",
     "output_type": "stream",
     "text": [
      "36\n"
     ]
    }
   ],
   "source": [
    "#Question1\n",
    "x=[2,3,6]\n",
    "y=x[0]*x[1]*x[2]\n",
    "print(y)"
   ]
  },
  {
   "cell_type": "code",
   "execution_count": 2,
   "id": "795af851",
   "metadata": {},
   "outputs": [
    {
     "name": "stdout",
     "output_type": "stream",
     "text": [
      "[(2, 1), (1, 2), (2, 3), (4, 4), (2, 5)]\n"
     ]
    }
   ],
   "source": [
    "#Question2\n",
    "z=[(2, 5), (1, 2), (4, 4), (2, 3), (2, 1)]\n",
    "z.sort(key=lambda x:x[1])\n",
    "print(z)"
   ]
  },
  {
   "cell_type": "code",
   "execution_count": 19,
   "id": "7e48c254",
   "metadata": {},
   "outputs": [
    {
     "name": "stdout",
     "output_type": "stream",
     "text": [
      "{'a': 400, 'b': 400, 'c': 300, 'd': 400}\n"
     ]
    }
   ],
   "source": [
    "#Question2\n",
    "\n",
    "d1 = {'a': 100, 'b': 200, 'c':300}\n",
    "\n",
    "d2 = {'a': 300, 'b': 200, 'd':400}\n",
    "\n",
    "d3=dict(d1)\n",
    "d3.update(d2)\n",
    "\n",
    "for i,s in d1.items():\n",
    "    for x,y in d2.items():\n",
    "        if i==x:\n",
    "            d3[i]=(s+y)      \n",
    "print(d3)\n"
   ]
  },
  {
   "cell_type": "code",
   "execution_count": 27,
   "id": "d1490137",
   "metadata": {},
   "outputs": [
    {
     "name": "stdout",
     "output_type": "stream",
     "text": [
      "Type a number: 8\n",
      "{1: 1, 2: 4, 3: 9, 4: 16, 5: 25, 6: 36, 7: 49, 8: 64}\n"
     ]
    }
   ],
   "source": [
    "#Question 4\n",
    "\n",
    "z = int(input(\"Type a number: \"))\n",
    "Dict = {}\n",
    "for i in range(1, z+1):\n",
    "    Dict[i] = i*i\n",
    "\n",
    "print(Dict)\n"
   ]
  },
  {
   "cell_type": "code",
   "execution_count": 31,
   "id": "cc37743f",
   "metadata": {},
   "outputs": [
    {
     "name": "stdout",
     "output_type": "stream",
     "text": [
      "[('item3', '24.5'), ('item2', '15.10'), ('item1', '12.20')]\n"
     ]
    }
   ],
   "source": [
    "#Question 5\n",
    "\n",
    "list= [('item1', '12.20'), ('item2', '15.10'), ('item3', '24.5')]\n",
    "def sort_tuple(X):\n",
    "    return(sorted(X, key = lambda n: float(n[1]), reverse = True))\n",
    "X = [('item1', '12.20'), ('item2', '15.10'), ('item3', '24.5')]\n",
    "print(sort_tuple(X))\n"
   ]
  },
  {
   "cell_type": "code",
   "execution_count": 9,
   "id": "d829cd98",
   "metadata": {},
   "outputs": [
    {
     "name": "stdout",
     "output_type": "stream",
     "text": [
      "0 1 2 3 4 {0, 1, 2, 3, 4}\n"
     ]
    }
   ],
   "source": [
    "#Question 6\n",
    "s={0, 1, 2, 3, 4}\n",
    "for value,char in enumerate(s):\n",
    "    print(char, end=' ')\n",
    "print(s)\n",
    "\n"
   ]
  },
  {
   "cell_type": "code",
   "execution_count": 10,
   "id": "b000a828",
   "metadata": {},
   "outputs": [
    {
     "name": "stdout",
     "output_type": "stream",
     "text": [
      "{0, 1, 2, 3, 4, 5}\n"
     ]
    }
   ],
   "source": [
    "#Question 6\n",
    "q={0, 1, 2, 3, 4}\n",
    "q.add(5)\n",
    "print(q)\n",
    "\n"
   ]
  },
  {
   "cell_type": "code",
   "execution_count": 11,
   "id": "59f4591f",
   "metadata": {},
   "outputs": [
    {
     "name": "stdout",
     "output_type": "stream",
     "text": [
      "{0, 1, 2, 3}\n"
     ]
    }
   ],
   "source": [
    "#Question 6\n",
    "e={0, 1, 2, 3, 4}\n",
    "e.remove(4)\n",
    "print(e)\n"
   ]
  },
  {
   "cell_type": "code",
   "execution_count": null,
   "id": "4eeff6c2",
   "metadata": {},
   "outputs": [],
   "source": []
  }
 ],
 "metadata": {
  "kernelspec": {
   "display_name": "Python 3 (ipykernel)",
   "language": "python",
   "name": "python3"
  },
  "language_info": {
   "codemirror_mode": {
    "name": "ipython",
    "version": 3
   },
   "file_extension": ".py",
   "mimetype": "text/x-python",
   "name": "python",
   "nbconvert_exporter": "python",
   "pygments_lexer": "ipython3",
   "version": "3.10.9"
  }
 },
 "nbformat": 4,
 "nbformat_minor": 5
}
