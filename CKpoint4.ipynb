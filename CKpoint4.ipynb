{
 "cells": [
  {
   "cell_type": "code",
   "execution_count": 3,
   "id": "50013bdf",
   "metadata": {},
   "outputs": [],
   "source": [
    "def calculator (num1,num2):\n",
    "    operator=input(\"please choose operation +,-,/,* : \")\n",
    "    if operator ==\"+\":\n",
    "        result = num1+num2\n",
    "        print(result)\n",
    "    \n",
    "    elif operator ==\"-\":\n",
    "        result = num1-num2\n",
    "        print(result)\n",
    "    \n",
    "    elif operator ==\"/\":\n",
    "        while num2==0:\n",
    "            print (\"can not divided zero\")\n",
    "            num2=int(input(\"insert second number again    \"))\n",
    "        result = num1/num2\n",
    "        print(result)\n",
    "    \n",
    "    elif operator ==\"*\":\n",
    "        result = num1*num2\n",
    "        print(result)\n",
    "    \n",
    "    else :\n",
    "        print (\"you entred a wrong operation\")\n",
    "    return\n",
    "    \n",
    "\n",
    "    \n",
    "\n",
    "    "
   ]
  },
  {
   "cell_type": "code",
   "execution_count": 4,
   "id": "1efd342f",
   "metadata": {},
   "outputs": [
    {
     "name": "stdout",
     "output_type": "stream",
     "text": [
      "please choose operation +,-,/,* : /\n",
      "can not divided zero\n",
      "insert second number again    2\n",
      "1.0\n"
     ]
    }
   ],
   "source": [
    "calculator(2,0)"
   ]
  },
  {
   "cell_type": "code",
   "execution_count": null,
   "id": "bcec46bf",
   "metadata": {},
   "outputs": [],
   "source": []
  }
 ],
 "metadata": {
  "kernelspec": {
   "display_name": "Python 3 (ipykernel)",
   "language": "python",
   "name": "python3"
  },
  "language_info": {
   "codemirror_mode": {
    "name": "ipython",
    "version": 3
   },
   "file_extension": ".py",
   "mimetype": "text/x-python",
   "name": "python",
   "nbconvert_exporter": "python",
   "pygments_lexer": "ipython3",
   "version": "3.10.9"
  }
 },
 "nbformat": 4,
 "nbformat_minor": 5
}
